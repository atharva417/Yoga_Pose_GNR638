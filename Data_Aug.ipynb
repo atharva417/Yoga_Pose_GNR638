{
  "nbformat": 4,
  "nbformat_minor": 0,
  "metadata": {
    "colab": {
      "name": "Data Aug.ipynb",
      "provenance": []
    },
    "kernelspec": {
      "display_name": "Python 3",
      "name": "python3"
    }
  },
  "cells": [
    {
      "cell_type": "code",
      "metadata": {
        "id": "IDpi5bzubUb0"
      },
      "source": [
        ""
      ],
      "execution_count": null,
      "outputs": []
    },
    {
      "cell_type": "code",
      "metadata": {
        "colab": {
          "base_uri": "https://localhost:8080/"
        },
        "id": "IOGVmuELbaM9",
        "outputId": "0e575800-19e4-4b91-ac8d-c26ab870780d"
      },
      "source": [
        "from google.colab import drive\n",
        "drive.mount('/content/drive')"
      ],
      "execution_count": null,
      "outputs": [
        {
          "output_type": "stream",
          "text": [
            "Mounted at /content/drive\n"
          ],
          "name": "stdout"
        }
      ]
    },
    {
      "cell_type": "code",
      "metadata": {
        "id": "Ytj5H6YgbaxY"
      },
      "source": [
        "from __future__ import print_function\r\n",
        "from keras.preprocessing.image import ImageDataGenerator\r\n",
        "import numpy as np \r\n",
        "import os\r\n",
        "import glob\r\n",
        "import skimage.io as io\r\n",
        "import skimage.transform as trans\r\n",
        "\r\n",
        "Sky = [128,128,128]\r\n",
        "Building = [128,0,0]\r\n",
        "Pole = [192,192,128]\r\n",
        "Road = [128,64,128]\r\n",
        "Pavement = [60,40,222]\r\n",
        "Tree = [128,128,0]\r\n",
        "SignSymbol = [192,128,128]\r\n",
        "Fence = [64,64,128]\r\n",
        "Car = [64,0,128]\r\n",
        "Pedestrian = [64,64,0]\r\n",
        "Bicyclist = [0,128,192]\r\n",
        "Unlabelled = [0,0,0]\r\n",
        "\r\n",
        "COLOR_DICT = np.array([Sky, Building, Pole, Road, Pavement,\r\n",
        "                          Tree, SignSymbol, Fence, Car, Pedestrian, Bicyclist, Unlabelled])\r\n",
        "\r\n",
        "\r\n",
        "def adjustData(img,mask,flag_multi_class,num_class):\r\n",
        "    if(flag_multi_class):\r\n",
        "        img = img / 255\r\n",
        "        mask = mask[:,:,:,0] if(len(mask.shape) == 4) else mask[:,:,0]\r\n",
        "        new_mask = np.zeros(mask.shape + (num_class,))\r\n",
        "        for i in range(num_class):\r\n",
        "            #for one pixel in the image, find the class in mask and convert it into one-hot vector\r\n",
        "            #index = np.where(mask == i)\r\n",
        "            #index_mask = (index[0],index[1],index[2],np.zeros(len(index[0]),dtype = np.int64) + i) if (len(mask.shape) == 4) else (index[0],index[1],np.zeros(len(index[0]),dtype = np.int64) + i)\r\n",
        "            #new_mask[index_mask] = 1\r\n",
        "            new_mask[mask == i,i] = 1\r\n",
        "        new_mask = np.reshape(new_mask,(new_mask.shape[0],new_mask.shape[1]*new_mask.shape[2],new_mask.shape[3])) if flag_multi_class else np.reshape(new_mask,(new_mask.shape[0]*new_mask.shape[1],new_mask.shape[2]))\r\n",
        "        mask = new_mask\r\n",
        "    elif(np.max(img) > 1):\r\n",
        "        img = img / 255\r\n",
        "        mask = mask /255\r\n",
        "        mask[mask > 0.5] = 1\r\n",
        "        mask[mask <= 0.5] = 0\r\n",
        "    return (img,mask)\r\n",
        "\r\n",
        "\r\n",
        "\r\n",
        "def trainGenerator(batch_size,train_path,image_folder,mask_folder,aug_dict,image_color_mode = \"grayscale\",\r\n",
        "                    mask_color_mode = \"grayscale\",image_save_prefix  = \"image\",mask_save_prefix  = \"mask\",\r\n",
        "                    flag_multi_class = False,num_class = 2,save_to_dir = None,target_size = (256,256),seed = 1):\r\n",
        "    '''\r\n",
        "    can generate image and mask at the same time\r\n",
        "    use the same seed for image_datagen and mask_datagen to ensure the transformation for image and mask is the same\r\n",
        "    if you want to visualize the results of generator, set save_to_dir = \"your path\"\r\n",
        "    '''\r\n",
        "    image_datagen = ImageDataGenerator(**aug_dict)\r\n",
        "    mask_datagen = ImageDataGenerator(**aug_dict)\r\n",
        "    image_generator = image_datagen.flow_from_directory(\r\n",
        "        train_path,\r\n",
        "        classes = [image_folder],\r\n",
        "        class_mode = None,\r\n",
        "        color_mode = image_color_mode,\r\n",
        "        target_size = target_size,\r\n",
        "        batch_size = batch_size,\r\n",
        "        save_to_dir = save_to_dir,\r\n",
        "        save_prefix  = image_save_prefix,\r\n",
        "        seed = seed)\r\n",
        "    mask_generator = mask_datagen.flow_from_directory(\r\n",
        "        train_path,\r\n",
        "        classes = [mask_folder],\r\n",
        "        class_mode = None,\r\n",
        "        color_mode = mask_color_mode,\r\n",
        "        target_size = target_size,\r\n",
        "        batch_size = batch_size,\r\n",
        "        save_to_dir = save_to_dir,\r\n",
        "        save_prefix  = mask_save_prefix,\r\n",
        "        seed = seed)\r\n",
        "    train_generator = zip(image_generator, mask_generator)\r\n",
        "    for (img,mask) in train_generator:\r\n",
        "        img,mask = adjustData(img,mask,flag_multi_class,num_class)\r\n",
        "        yield (img,mask)\r\n",
        "\r\n",
        "\r\n",
        "\r\n",
        "def testGenerator(test_path,num_image = 30,target_size = (256,256),flag_multi_class = False,as_gray = True):\r\n",
        "    for i in range(num_image):\r\n",
        "        img = io.imread(os.path.join(test_path,\"%d.png\"%i),as_gray = as_gray)\r\n",
        "        img = img / 255\r\n",
        "        img = trans.resize(img,target_size)\r\n",
        "        img = np.reshape(img,img.shape+(1,)) if (not flag_multi_class) else img\r\n",
        "        img = np.reshape(img,(1,)+img.shape)\r\n",
        "        yield img\r\n",
        "\r\n",
        "\r\n",
        "def geneTrainNpy(image_path,mask_path,flag_multi_class = False,num_class = 2,image_prefix = \"image\",mask_prefix = \"mask\",image_as_gray = True,mask_as_gray = True):\r\n",
        "    image_name_arr = glob.glob(os.path.join(image_path,\"%s*.png\"%image_prefix))\r\n",
        "    image_arr = []\r\n",
        "    mask_arr = []\r\n",
        "    for index,item in enumerate(image_name_arr):\r\n",
        "        img = io.imread(item,as_gray = image_as_gray)\r\n",
        "        img = np.reshape(img,img.shape + (1,)) if image_as_gray else img\r\n",
        "        mask = io.imread(item.replace(image_path,mask_path).replace(image_prefix,mask_prefix),as_gray = mask_as_gray)\r\n",
        "        mask = np.reshape(mask,mask.shape + (1,)) if mask_as_gray else mask\r\n",
        "        img,mask = adjustData(img,mask,flag_multi_class,num_class)\r\n",
        "        image_arr.append(img)\r\n",
        "        mask_arr.append(mask)\r\n",
        "    image_arr = np.array(image_arr)\r\n",
        "    mask_arr = np.array(mask_arr)\r\n",
        "    return image_arr,mask_arr\r\n",
        "\r\n",
        "\r\n",
        "def labelVisualize(num_class,color_dict,img):\r\n",
        "    img = img[:,:,0] if len(img.shape) == 3 else img\r\n",
        "    img_out = np.zeros(img.shape + (3,))\r\n",
        "    for i in range(num_class):\r\n",
        "        img_out[img == i,:] = color_dict[i]\r\n",
        "    return img_out / 255\r\n",
        "\r\n",
        "\r\n",
        "\r\n",
        "def saveResult(save_path,npyfile,flag_multi_class = False,num_class = 2):\r\n",
        "    for i,item in enumerate(npyfile):\r\n",
        "        img = labelVisualize(num_class,COLOR_DICT,item) if flag_multi_class else item[:,:,0]\r\n",
        "        io.imsave(os.path.join(save_path,\"%d_predict.png\"%i),img)"
      ],
      "execution_count": null,
      "outputs": []
    },
    {
      "cell_type": "code",
      "metadata": {
        "id": "t0Ebdz39b3Pc"
      },
      "source": [
        "data_gen_args = dict(rotation_range=0.2,\n",
        "                    width_shift_range=0.05,\n",
        "                    height_shift_range=0.05,\n",
        "                    shear_range=0.05,\n",
        "                    zoom_range=0.05,\n",
        "                    horizontal_flip=True,\n",
        "                    fill_mode='nearest')\n",
        "myGenerator = trainGenerator(20,'/content/drive/MyDrive/dataset/train','image','label',data_gen_args,save_to_dir = \"/content/drive/MyDrive/dataset/train/aug\")"
      ],
      "execution_count": null,
      "outputs": []
    },
    {
      "cell_type": "code",
      "metadata": {
        "colab": {
          "background_save": true,
          "base_uri": "https://localhost:8080/"
        },
        "id": "FUzAs2_rcAv9",
        "outputId": "5655d1d2-8b99-413a-b8b1-b72b69e08cc3"
      },
      "source": [
        "num_batch = 20\n",
        "for i,batch in enumerate(myGenerator):\n",
        "    if(i >= num_batch):\n",
        "        break"
      ],
      "execution_count": null,
      "outputs": [
        {
          "output_type": "stream",
          "text": [
            "Found 5000 images belonging to 1 classes.\n",
            "Found 5000 images belonging to 1 classes.\n"
          ],
          "name": "stdout"
        }
      ]
    },
    {
      "cell_type": "code",
      "metadata": {
        "id": "uOt11Kf0cB8u"
      },
      "source": [
        ""
      ],
      "execution_count": null,
      "outputs": []
    }
  ]
}