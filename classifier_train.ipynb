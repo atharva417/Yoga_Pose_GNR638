{
  "nbformat": 4,
  "nbformat_minor": 0,
  "metadata": {
    "colab": {
      "name": "Untitled5.ipynb",
      "provenance": [],
      "collapsed_sections": [],
      "toc_visible": true
    },
    "kernelspec": {
      "name": "python3",
      "display_name": "Python 3"
    },
    "accelerator": "GPU"
  },
  "cells": [
    {
      "cell_type": "code",
      "metadata": {
        "id": "lYomwmGbxI22"
      },
      "source": [
        ""
      ],
      "execution_count": null,
      "outputs": []
    },
    {
      "cell_type": "code",
      "metadata": {
        "id": "FsB_js311Cu_",
        "colab": {
          "base_uri": "https://localhost:8080/"
        },
        "outputId": "e8287d0f-8311-4d2d-a37b-42a8ec508d59"
      },
      "source": [
        "from google.colab import drive\n",
        "drive.mount('/content/drive')"
      ],
      "execution_count": 3,
      "outputs": [
        {
          "output_type": "stream",
          "text": [
            "Drive already mounted at /content/drive; to attempt to forcibly remount, call drive.mount(\"/content/drive\", force_remount=True).\n"
          ],
          "name": "stdout"
        }
      ]
    },
    {
      "cell_type": "markdown",
      "metadata": {
        "id": "PA6XIYB03ibL"
      },
      "source": [
        "##Initializing path for train and validation data"
      ]
    },
    {
      "cell_type": "code",
      "metadata": {
        "id": "VFjaK6SsemtH"
      },
      "source": [
        "train_ges = '/content/drive/My Drive/yoga_set/train'\n",
        "val_ges = '/content/drive/My Drive/yoga_set/val'"
      ],
      "execution_count": 4,
      "outputs": []
    },
    {
      "cell_type": "markdown",
      "metadata": {
        "id": "w2VrTcJB34Az"
      },
      "source": [
        "## Cnvolutional Neural Network\n"
      ]
    },
    {
      "cell_type": "code",
      "metadata": {
        "id": "8ez9jcQ912T2"
      },
      "source": [
        "from keras import models\n",
        "from keras import layers\n",
        "\n",
        "from keras.layers import Conv2D\n",
        "from keras.layers import MaxPooling2D\n",
        "from keras.layers import Flatten\n",
        "from keras.layers import Dense\n",
        "from keras.layers import ZeroPadding2D\n",
        "from keras.layers import BatchNormalization\n",
        "from tensorflow.keras import regularizers\n",
        "\n",
        "model = models.Sequential()\n",
        "\n",
        "model.add(ZeroPadding2D((1,1),input_shape=(256,256,3)))\n",
        "model.add(layers.Conv2D(32, (3, 3), activation='relu'))\n",
        "\n",
        "model.add(ZeroPadding2D((1,1)))\n",
        "model.add(layers.Conv2D(32, (3, 3), activation='relu'))\n",
        "\n",
        "model.add(ZeroPadding2D((1,1)))\n",
        "model.add(layers.Conv2D(32, (3, 3), activation='relu'))\n",
        "model.add(layers.MaxPooling2D((2, 2), padding='same'))\n",
        "\n",
        "model.add(ZeroPadding2D((1,1)))\n",
        "model.add(layers.Conv2D(64, (3, 3), activation='relu'))\n",
        "model.add(layers.MaxPooling2D((2, 2), padding='same'))\n",
        "\n",
        "model.add(ZeroPadding2D((1,1)))\n",
        "model.add(layers.Conv2D(128, (3, 3), activation='relu'))\n",
        "model.add(layers.MaxPooling2D((2, 2), padding='same'))\n",
        "\n",
        "model.add(layers.Flatten())\n",
        "model.add(layers.Dense(256, activation='relu'))\n",
        "model.add(layers.Dense(8, activation='softmax'))"
      ],
      "execution_count": 63,
      "outputs": []
    },
    {
      "cell_type": "code",
      "metadata": {
        "id": "7nBYqtZf4wA_",
        "colab": {
          "base_uri": "https://localhost:8080/"
        },
        "outputId": "ffd948e3-de97-4ff9-e84b-0e728aba2c1a"
      },
      "source": [
        "input_shape = (256,256,3)\n",
        "model.build(input_shape)\n",
        "model.summary()"
      ],
      "execution_count": 64,
      "outputs": [
        {
          "output_type": "stream",
          "text": [
            "Model: \"sequential_1\"\n",
            "_________________________________________________________________\n",
            "Layer (type)                 Output Shape              Param #   \n",
            "=================================================================\n",
            "zero_padding2d (ZeroPadding2 (None, 258, 258, 3)       0         \n",
            "_________________________________________________________________\n",
            "conv2d (Conv2D)              (None, 256, 256, 32)      896       \n",
            "_________________________________________________________________\n",
            "zero_padding2d_1 (ZeroPaddin (None, 258, 258, 32)      0         \n",
            "_________________________________________________________________\n",
            "conv2d_1 (Conv2D)            (None, 256, 256, 32)      9248      \n",
            "_________________________________________________________________\n",
            "zero_padding2d_2 (ZeroPaddin (None, 258, 258, 32)      0         \n",
            "_________________________________________________________________\n",
            "conv2d_2 (Conv2D)            (None, 256, 256, 32)      9248      \n",
            "_________________________________________________________________\n",
            "max_pooling2d (MaxPooling2D) (None, 128, 128, 32)      0         \n",
            "_________________________________________________________________\n",
            "zero_padding2d_3 (ZeroPaddin (None, 130, 130, 32)      0         \n",
            "_________________________________________________________________\n",
            "conv2d_3 (Conv2D)            (None, 128, 128, 64)      18496     \n",
            "_________________________________________________________________\n",
            "max_pooling2d_1 (MaxPooling2 (None, 64, 64, 64)        0         \n",
            "_________________________________________________________________\n",
            "zero_padding2d_4 (ZeroPaddin (None, 66, 66, 64)        0         \n",
            "_________________________________________________________________\n",
            "conv2d_4 (Conv2D)            (None, 64, 64, 128)       73856     \n",
            "_________________________________________________________________\n",
            "max_pooling2d_2 (MaxPooling2 (None, 32, 32, 128)       0         \n",
            "_________________________________________________________________\n",
            "flatten_1 (Flatten)          (None, 131072)            0         \n",
            "_________________________________________________________________\n",
            "dense_2 (Dense)              (None, 256)               33554688  \n",
            "_________________________________________________________________\n",
            "dense_3 (Dense)              (None, 8)                 2056      \n",
            "=================================================================\n",
            "Total params: 33,668,488\n",
            "Trainable params: 33,668,488\n",
            "Non-trainable params: 0\n",
            "_________________________________________________________________\n"
          ],
          "name": "stdout"
        }
      ]
    },
    {
      "cell_type": "code",
      "metadata": {
        "id": "4I61EY472IJW",
        "colab": {
          "base_uri": "https://localhost:8080/"
        },
        "outputId": "8504cc41-9572-4d68-9926-c67869c7e263"
      },
      "source": [
        "from keras.preprocessing.image import ImageDataGenerator\n",
        "from keras import optimizers\n",
        "train_datagen = ImageDataGenerator(\n",
        "rescale=1./255,\n",
        "rotation_range=40,\n",
        "width_shift_range=0.2,\n",
        "height_shift_range=0.2,\n",
        "shear_range=0.2,\n",
        "zoom_range=0.2,\n",
        "horizontal_flip=True,\n",
        "fill_mode='nearest')\n",
        "\n",
        "test_datagen = ImageDataGenerator(rescale=1./255)\n",
        "\n",
        "train_generator = train_datagen.flow_from_directory(\n",
        "train_ges,\n",
        "target_size=(256, 256),\n",
        "batch_size=4,\n",
        "class_mode='categorical')\n",
        "\n",
        "validation_generator = test_datagen.flow_from_directory(\n",
        "val_ges,\n",
        "target_size=(256, 256),\n",
        "batch_size=4,\n",
        "class_mode='categorical')\n"
      ],
      "execution_count": 65,
      "outputs": [
        {
          "output_type": "stream",
          "text": [
            "Found 512 images belonging to 8 classes.\n",
            "Found 160 images belonging to 8 classes.\n"
          ],
          "name": "stdout"
        }
      ]
    },
    {
      "cell_type": "markdown",
      "metadata": {
        "id": "Q8w7LCKg439z"
      },
      "source": [
        "##Training our new model: Fine Tuning"
      ]
    },
    {
      "cell_type": "code",
      "metadata": {
        "id": "0DOnigL02I0N",
        "colab": {
          "base_uri": "https://localhost:8080/"
        },
        "outputId": "7e023388-dade-4f61-8097-3298a56ee3c8"
      },
      "source": [
        "model.compile(loss='categorical_crossentropy',\n",
        "optimizer=optimizers.RMSprop(lr=0.00005),\n",
        "metrics=['acc'])\n",
        "\n",
        "history = model.fit_generator(\n",
        "train_generator,\n",
        "steps_per_epoch=16,\n",
        "epochs=40,\n",
        "validation_data=validation_generator,\n",
        "validation_steps=5)"
      ],
      "execution_count": 9,
      "outputs": [
        {
          "output_type": "stream",
          "text": [
            "WARNING:tensorflow:From <ipython-input-9-8deed6e12aca>:10: Model.fit_generator (from tensorflow.python.keras.engine.training) is deprecated and will be removed in a future version.\n",
            "Instructions for updating:\n",
            "Please use Model.fit, which supports generators.\n",
            "Epoch 1/40\n",
            "16/16 [==============================] - 44s 3s/step - loss: 2.4593 - acc: 0.1094 - val_loss: 2.0639 - val_acc: 0.3000\n",
            "Epoch 2/40\n",
            "16/16 [==============================] - 41s 3s/step - loss: 2.0522 - acc: 0.2188 - val_loss: 1.8695 - val_acc: 0.2000\n",
            "Epoch 3/40\n",
            "16/16 [==============================] - 39s 2s/step - loss: 1.9909 - acc: 0.2344 - val_loss: 1.5625 - val_acc: 0.5000\n",
            "Epoch 4/40\n",
            "16/16 [==============================] - 29s 2s/step - loss: 1.7950 - acc: 0.3125 - val_loss: 1.3836 - val_acc: 0.6500\n",
            "Epoch 5/40\n",
            "16/16 [==============================] - 32s 2s/step - loss: 1.6796 - acc: 0.3750 - val_loss: 1.7922 - val_acc: 0.2500\n",
            "Epoch 6/40\n",
            "16/16 [==============================] - 27s 2s/step - loss: 1.7858 - acc: 0.4062 - val_loss: 1.2929 - val_acc: 0.6000\n",
            "Epoch 7/40\n",
            "16/16 [==============================] - 22s 1s/step - loss: 1.5179 - acc: 0.4062 - val_loss: 1.0836 - val_acc: 0.7000\n",
            "Epoch 8/40\n",
            "16/16 [==============================] - 19s 1s/step - loss: 1.5569 - acc: 0.4062 - val_loss: 1.3762 - val_acc: 0.4500\n",
            "Epoch 9/40\n",
            "16/16 [==============================] - 12s 758ms/step - loss: 1.3464 - acc: 0.5625 - val_loss: 1.1594 - val_acc: 0.6000\n",
            "Epoch 10/40\n",
            "16/16 [==============================] - 15s 919ms/step - loss: 1.4751 - acc: 0.5156 - val_loss: 1.2720 - val_acc: 0.5000\n",
            "Epoch 11/40\n",
            "16/16 [==============================] - 14s 856ms/step - loss: 1.3092 - acc: 0.5312 - val_loss: 1.2490 - val_acc: 0.4000\n",
            "Epoch 12/40\n",
            "16/16 [==============================] - 13s 809ms/step - loss: 1.3212 - acc: 0.5312 - val_loss: 1.2053 - val_acc: 0.6000\n",
            "Epoch 13/40\n",
            "16/16 [==============================] - 12s 778ms/step - loss: 1.1707 - acc: 0.6875 - val_loss: 0.6767 - val_acc: 0.9500\n",
            "Epoch 14/40\n",
            "16/16 [==============================] - 7s 463ms/step - loss: 1.3230 - acc: 0.5781 - val_loss: 0.6647 - val_acc: 0.8000\n",
            "Epoch 15/40\n",
            "16/16 [==============================] - 9s 577ms/step - loss: 1.2631 - acc: 0.5312 - val_loss: 1.2220 - val_acc: 0.5000\n",
            "Epoch 16/40\n",
            "16/16 [==============================] - 6s 389ms/step - loss: 1.1096 - acc: 0.5938 - val_loss: 0.8907 - val_acc: 0.7000\n",
            "Epoch 17/40\n",
            "16/16 [==============================] - 5s 284ms/step - loss: 1.1471 - acc: 0.5625 - val_loss: 1.4209 - val_acc: 0.4000\n",
            "Epoch 18/40\n",
            "16/16 [==============================] - 6s 388ms/step - loss: 1.1419 - acc: 0.5469 - val_loss: 0.5125 - val_acc: 0.8000\n",
            "Epoch 19/40\n",
            "16/16 [==============================] - 6s 390ms/step - loss: 1.1779 - acc: 0.5938 - val_loss: 0.9808 - val_acc: 0.6500\n",
            "Epoch 20/40\n",
            "16/16 [==============================] - 4s 236ms/step - loss: 1.0475 - acc: 0.5781 - val_loss: 1.0752 - val_acc: 0.6500\n",
            "Epoch 21/40\n",
            "16/16 [==============================] - 3s 199ms/step - loss: 0.9522 - acc: 0.6562 - val_loss: 0.6655 - val_acc: 0.8000\n",
            "Epoch 22/40\n",
            "16/16 [==============================] - 5s 301ms/step - loss: 0.9660 - acc: 0.6875 - val_loss: 0.6784 - val_acc: 0.6500\n",
            "Epoch 23/40\n",
            "16/16 [==============================] - 3s 169ms/step - loss: 1.0140 - acc: 0.6875 - val_loss: 0.7169 - val_acc: 0.7500\n",
            "Epoch 24/40\n",
            "16/16 [==============================] - 3s 165ms/step - loss: 0.9673 - acc: 0.6719 - val_loss: 1.0187 - val_acc: 0.7500\n",
            "Epoch 25/40\n",
            "16/16 [==============================] - 3s 166ms/step - loss: 1.0100 - acc: 0.6719 - val_loss: 1.1025 - val_acc: 0.7500\n",
            "Epoch 26/40\n",
            "16/16 [==============================] - 4s 264ms/step - loss: 1.0090 - acc: 0.7188 - val_loss: 0.4332 - val_acc: 0.9000\n",
            "Epoch 27/40\n",
            "16/16 [==============================] - 4s 260ms/step - loss: 1.0028 - acc: 0.6250 - val_loss: 0.8205 - val_acc: 0.8000\n",
            "Epoch 28/40\n",
            "16/16 [==============================] - 3s 162ms/step - loss: 1.2435 - acc: 0.6406 - val_loss: 1.0888 - val_acc: 0.7000\n",
            "Epoch 29/40\n",
            "16/16 [==============================] - 4s 264ms/step - loss: 0.8522 - acc: 0.7188 - val_loss: 0.6266 - val_acc: 0.9000\n",
            "Epoch 30/40\n",
            "16/16 [==============================] - 3s 161ms/step - loss: 0.8923 - acc: 0.6875 - val_loss: 0.3150 - val_acc: 0.9000\n",
            "Epoch 31/40\n",
            "16/16 [==============================] - 2s 130ms/step - loss: 0.7669 - acc: 0.7969 - val_loss: 0.6400 - val_acc: 0.8500\n",
            "Epoch 32/40\n",
            "16/16 [==============================] - 3s 162ms/step - loss: 0.9942 - acc: 0.6094 - val_loss: 0.4711 - val_acc: 0.8000\n",
            "Epoch 33/40\n",
            "16/16 [==============================] - 3s 161ms/step - loss: 0.7353 - acc: 0.7812 - val_loss: 0.8176 - val_acc: 0.6500\n",
            "Epoch 34/40\n",
            "16/16 [==============================] - 2s 128ms/step - loss: 0.6574 - acc: 0.7344 - val_loss: 0.5180 - val_acc: 0.8500\n",
            "Epoch 35/40\n",
            "16/16 [==============================] - 3s 163ms/step - loss: 0.7716 - acc: 0.7188 - val_loss: 0.7244 - val_acc: 0.8000\n",
            "Epoch 36/40\n",
            "16/16 [==============================] - 3s 196ms/step - loss: 0.6454 - acc: 0.7969 - val_loss: 0.7103 - val_acc: 0.8000\n",
            "Epoch 37/40\n",
            "16/16 [==============================] - 3s 158ms/step - loss: 0.7971 - acc: 0.7344 - val_loss: 0.4165 - val_acc: 0.9000\n",
            "Epoch 38/40\n",
            "16/16 [==============================] - 2s 132ms/step - loss: 0.9108 - acc: 0.6562 - val_loss: 0.1732 - val_acc: 0.9500\n",
            "Epoch 39/40\n",
            "16/16 [==============================] - 2s 129ms/step - loss: 0.8258 - acc: 0.7500 - val_loss: 0.7631 - val_acc: 0.7000\n",
            "Epoch 40/40\n",
            "16/16 [==============================] - 2s 130ms/step - loss: 0.8111 - acc: 0.7188 - val_loss: 0.3016 - val_acc: 0.9000\n"
          ],
          "name": "stdout"
        }
      ]
    },
    {
      "cell_type": "markdown",
      "metadata": {
        "id": "aZd2J4Ph4_R4"
      },
      "source": [
        "##PLotting the results"
      ]
    },
    {
      "cell_type": "code",
      "metadata": {
        "id": "g9g_2A5cGcy2",
        "colab": {
          "base_uri": "https://localhost:8080/",
          "height": 545
        },
        "outputId": "fcac078c-945d-4a6f-9b8f-e836e13ef559"
      },
      "source": [
        "import matplotlib.pyplot as plt\n",
        "acc = history.history['acc']\n",
        "val_acc = history.history['val_acc']\n",
        "loss = history.history['loss']\n",
        "val_loss = history.history['val_loss']\n",
        "epochs = range(1, len(acc) + 1)\n",
        "plt.plot(epochs, acc, 'bo', label='Training acc')\n",
        "plt.plot(epochs, val_acc, 'b', label='Validation acc')\n",
        "plt.title('Training and validation accuracy')\n",
        "plt.legend()\n",
        "plt.figure()\n",
        "plt.plot(epochs, loss, 'bo', label='Training loss')\n",
        "plt.plot(epochs, val_loss, 'b', label='Validation loss')\n",
        "plt.title('Training and validation loss')\n",
        "plt.legend()\n",
        "plt.show()"
      ],
      "execution_count": 11,
      "outputs": [
        {
          "output_type": "display_data",
          "data": {
            "image/png": "[encoded data removed]",
            "text/plain": [
              "<Figure size 432x288 with 1 Axes>"
            ]
          },
          "metadata": {
            "tags": [],
            "needs_background": "light"
          }
        },
        {
          "output_type": "display_data",
          "data": {
            "image/png": "[encoded data removed]",
            "text/plain": [
              "<Figure size 432x288 with 1 Axes>"
            ]
          },
          "metadata": {
            "tags": [],
            "needs_background": "light"
          }
        }
      ]
    },
    {
      "cell_type": "code",
      "metadata": {
        "id": "YiVH0jkl2I8d",
        "colab": {
          "base_uri": "https://localhost:8080/",
          "height": 545
        },
        "outputId": "3ace681f-f83d-4874-c6c2-b65a0a3d4e8a"
      },
      "source": [
        "def smooth_curve(points, factor=0.8):\n",
        "  smoothed_points = []\n",
        "  for point in points:\n",
        "    if smoothed_points:\n",
        "      previous = smoothed_points[-1]\n",
        "      smoothed_points.append(previous * factor + point * (1 - factor))\n",
        "    else:\n",
        "      smoothed_points.append(point)\n",
        "  return smoothed_points\n",
        "plt.plot(epochs,\n",
        "smooth_curve(val_acc), 'bo', label='Smoothed training acc')\n",
        "plt.plot(epochs,\n",
        "smooth_curve(val_acc), 'b', label='Smoothed validation acc')\n",
        "plt.title('Training and validation accuracy')\n",
        "plt.legend()\n",
        "plt.figure()\n",
        "plt.plot(epochs,\n",
        "smooth_curve(loss), 'bo', label='Smoothed training loss')\n",
        "plt.plot(epochs,\n",
        "smooth_curve(val_loss), 'b', label='Smoothed validation loss')\n",
        "plt.title('Training and validation loss')\n",
        "plt.legend()\n",
        "plt.show()"
      ],
      "execution_count": 12,
      "outputs": [
        {
          "output_type": "display_data",
          "data": {
            "image/png": "[encoded data removed]",
            "text/plain": [
              "<Figure size 432x288 with 1 Axes>"
            ]
          },
          "metadata": {
            "tags": [],
            "needs_background": "light"
          }
        },
        {
          "output_type": "display_data",
          "data": {
            "image/png": "[encoded data removed]",
            "text/plain": [
              "<Figure size 432x288 with 1 Axes>"
            ]
          },
          "metadata": {
            "tags": [],
            "needs_background": "light"
          }
        }
      ]
    },
    {
      "cell_type": "markdown",
      "metadata": {
        "id": "8FRr2pBlgMRP"
      },
      "source": [
        "## Saving model for future use"
      ]
    },
    {
      "cell_type": "code",
      "metadata": {
        "id": "MlHl99z3QJ-U"
      },
      "source": [
        "model.save('/content/drive/My Drive/yoga_set/yoga_ges_71_90.h5')"
      ],
      "execution_count": 13,
      "outputs": []
    },
    {
      "cell_type": "code",
      "metadata": {
        "id": "XJzz-Gr4c1Na"
      },
      "source": [
        ""
      ],
      "execution_count": null,
      "outputs": []
    }
  ]
}